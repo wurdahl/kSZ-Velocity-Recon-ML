{
 "cells": [
  {
   "cell_type": "code",
   "execution_count": null,
   "id": "dcc4ba07",
   "metadata": {},
   "outputs": [],
   "source": [
    "import healpy as hp\n",
    "import numpy as np\n",
    "\n",
    "import matplotlib.pyplot as plt"
   ]
  },
  {
   "cell_type": "code",
   "execution_count": null,
   "id": "bd128e0f",
   "metadata": {},
   "outputs": [],
   "source": [
    "import tensorflow as tf\n",
    "from tensorflow.keras import datasets, layers, models"
   ]
  },
  {
   "cell_type": "code",
   "execution_count": null,
   "id": "ca90229f",
   "metadata": {},
   "outputs": [],
   "source": [
    "kSZ_PS = np.load('./lensedkSZ_NS_2560_R_2968_P_1536_DV_192.npy')\n",
    "overdensity_PS = np.load('./overdensity_NS_2560_R_2968_P_1536_DV_192.npy')"
   ]
  },
  {
   "cell_type": "code",
   "execution_count": null,
   "id": "ef1c4f60",
   "metadata": {},
   "outputs": [],
   "source": [
    "import camb\n",
    "import sys, argparse, multiprocessing\n",
    "from scipy.signal import savgol_filter\n",
    "\n",
    "#Make Fake CMB\n",
    "h=0.69\n",
    "pars = camb.CAMBparams()\n",
    "pars.set_cosmology(H0=100.0*h, ombh2=0.048*h**2, omch2=0.262*h**2, mnu=0.06, omk=0)\n",
    "pars.InitPower.set_params(As=2e-9, ns=0.96, r=0)\n",
    "pars.set_for_lmax(6144, lens_potential_accuracy=0)\n",
    "results = camb.get_results(pars)\n",
    "powers =results.get_cmb_power_spectra(pars, CMB_unit='K')\n",
    "l=np.arange(0,len(powers['total'][:,0]))\n",
    "cambFactor = l*(l+1)/(2*np.pi)\n",
    "CMB_camb = powers['total'][:,0]/cambFactor\n",
    "CMB_camb[0]=0.0\n"
   ]
  },
  {
   "cell_type": "code",
   "execution_count": null,
   "id": "4da3d274",
   "metadata": {},
   "outputs": [],
   "source": [
    "plt.figure(dpi=800)\n",
    "plt.loglog(kSZ_PS);\n",
    "plt.loglog(CMB_camb);\n",
    "plt.legend(['kSZ','cmb']);"
   ]
  },
  {
   "cell_type": "code",
   "execution_count": null,
   "id": "d3d5bd16",
   "metadata": {},
   "outputs": [],
   "source": [
    "NSIDE=512"
   ]
  },
  {
   "cell_type": "code",
   "execution_count": null,
   "id": "a69cb1fe",
   "metadata": {},
   "outputs": [],
   "source": [
    "fakekSZ = hp.synfast(kSZ_PS,nside=NSIDE)\n",
    "fakeCMB = hp.synfast(CMB_camb,nside=NSIDE)"
   ]
  },
  {
   "cell_type": "code",
   "execution_count": null,
   "id": "3b3e511e",
   "metadata": {},
   "outputs": [],
   "source": [
    "hp.mollview(fakekSZ)"
   ]
  },
  {
   "cell_type": "code",
   "execution_count": null,
   "id": "31e840e5",
   "metadata": {},
   "outputs": [],
   "source": [
    "hp.mollview(fakeCMB)"
   ]
  },
  {
   "cell_type": "code",
   "execution_count": null,
   "id": "6ddc2237",
   "metadata": {},
   "outputs": [],
   "source": [
    "hp.mollview(fakeCMB,nest=True)"
   ]
  },
  {
   "cell_type": "markdown",
   "id": "6ff0407a",
   "metadata": {},
   "source": [
    "## Generate squares of data for ML"
   ]
  },
  {
   "cell_type": "code",
   "execution_count": null,
   "id": "1cc31e2b",
   "metadata": {},
   "outputs": [],
   "source": [
    "NSIDE=2048"
   ]
  },
  {
   "cell_type": "code",
   "execution_count": null,
   "id": "e2b9ad3a",
   "metadata": {},
   "outputs": [],
   "source": [
    "def r_square(y_true, y_pred):\n",
    "    from keras import backend as K\n",
    "    SS_res =  K.sum(K.square(y_true - y_pred)) \n",
    "    SS_tot = K.sum(K.square(y_true - K.mean(y_true))) \n",
    "    return ( 1 - SS_res/(SS_tot + K.epsilon()) )"
   ]
  },
  {
   "cell_type": "code",
   "execution_count": null,
   "id": "eb5a6e67",
   "metadata": {},
   "outputs": [],
   "source": [
    "genMaps = 20\n",
    "nsideDivs = 16\n",
    "angularDivs = 12*nsideDivs**2\n",
    "npix = 12*NSIDE**2\n",
    "block_size = npix//angularDivs\n",
    "\n",
    "CMB_squares = np.zeros((genMaps,angularDivs,block_size))\n",
    "kSZ_squares = np.zeros((genMaps,angularDivs,block_size))\n",
    "\n",
    "#totalPix = 0\n",
    "\n",
    "for i in range(genMaps):\n",
    "    fakekSZ = hp.reorder(hp.synfast(kSZ_PS,nside=NSIDE),r2n=True)\n",
    "    fakeCMB = hp.reorder(hp.synfast(CMB_camb,nside=NSIDE),r2n=True)\n",
    "    for j in range(angularDivs):\n",
    "        pixels = np.arange(j*block_size,(j+1)*block_size)\n",
    "        kSZ_squares[i,j,:] = fakekSZ[pixels]\n",
    "        CMB_squares[i,j,:] = fakeCMB[pixels]\n",
    "        #fakeCMB[pixels]=j"
   ]
  },
  {
   "cell_type": "code",
   "execution_count": null,
   "id": "5c1787a4",
   "metadata": {},
   "outputs": [],
   "source": [
    "plt.loglog(kSZ_PS)\n",
    "plt.loglog(CMB_camb)\n",
    "plt.loglog(hp.anafast(hp.reorder(fakekSZ,n2r=True)))\n",
    "plt.loglog(hp.anafast(hp.reorder(fakeCMB,n2r=True)))\n",
    "plt.legend(['kSZ','CMB','gen kSZ','gen CMB'])"
   ]
  },
  {
   "cell_type": "code",
   "execution_count": null,
   "id": "c8253bd9",
   "metadata": {},
   "outputs": [],
   "source": [
    "x_raw = (kSZ_squares+CMB_squares).reshape(-1, block_size)\n",
    "y_raw = kSZ_squares.reshape(-1, block_size)\n",
    "\n",
    "numSets = genMaps*angularDivs\n",
    "x_train, x_test = np.split(x_raw, indices_or_sections=[numSets-numSets//genMaps])\n",
    "y_train, y_test = np.split(y_raw, indices_or_sections=[numSets-numSets//genMaps])"
   ]
  },
  {
   "cell_type": "code",
   "execution_count": null,
   "id": "0570f180",
   "metadata": {},
   "outputs": [],
   "source": [
    "dset_test = tf.data.Dataset.zip((tf.data.Dataset.from_tensor_slices(x_test),\n",
    "                                 tf.data.Dataset.from_tensor_slices(y_test)))\n",
    "dset_test = dset_test.shuffle(3000)\n",
    "dset_test = dset_test.batch(250)\n",
    "\n",
    "dset_train = tf.data.Dataset.zip((tf.data.Dataset.from_tensor_slices(x_train),\n",
    "                                  tf.data.Dataset.from_tensor_slices(y_train)))\n",
    "dset_train = dset_train.shuffle(3000)\n",
    "dset_train = dset_train.batch(250)"
   ]
  },
  {
   "cell_type": "code",
   "execution_count": null,
   "id": "e0d340ac",
   "metadata": {},
   "outputs": [],
   "source": [
    "AUTOTUNE = tf.data.AUTOTUNE\n",
    "\n",
    "dset_train = dset_train.prefetch(buffer_size=AUTOTUNE)\n",
    "dset_test = dset_test.prefetch(buffer_size=AUTOTUNE)"
   ]
  },
  {
   "cell_type": "code",
   "execution_count": null,
   "id": "095244f6",
   "metadata": {},
   "outputs": [],
   "source": [
    "block_size"
   ]
  },
  {
   "cell_type": "code",
   "execution_count": null,
   "id": "e19951ea",
   "metadata": {},
   "outputs": [],
   "source": [
    "# simple dense model\n",
    "model = tf.keras.models.Sequential()\n",
    "model.add(tf.keras.Input(shape=(block_size,)))\n",
    "model.add(tf.keras.layers.Dense(block_size, activation='tanh'))\n",
    "model.add(tf.keras.layers.Dense(block_size,activation=\"tanh\"))\n",
    "#model.add(tf.keras.layers.Dense(3*block_size,activation=\"linear\"))\n",
    "#model.add(tf.keras.layers.Dense(2*block_size,activation=\"linear\"))\n",
    "#model.add(tf.keras.layers.Dense(2*block_size,activation=\"tanh\"))\n",
    "model.add(tf.keras.layers.Dense(block_size,activation=\"linear\"))\n",
    "#model.add(tf.keras.layers.Dense(2*block_size,activation=\"tanh\"))\n",
    "model.add(tf.keras.layers.Dense(block_size,activation=\"tanh\"))\n",
    "model.output_shape"
   ]
  },
  {
   "cell_type": "code",
   "execution_count": null,
   "id": "7c8c1dfc",
   "metadata": {},
   "outputs": [],
   "source": [
    "side = int(np.sqrt(block_size))\n",
    "model = tf.keras.models.Sequential()\n",
    "model.add(tf.keras.layers.Reshape((side, -1,1), input_shape=(block_size,)))\n",
    "model.add(tf.keras.layers.Conv2D(side, (8,8), activation=\"sigmoid\"))\n",
    "model.add(tf.keras.layers.Conv2D(side, (4,4), activation=\"tanh\"))\n",
    "model.add(tf.keras.layers.Conv2D(side, (4,4), activation=\"tanh\"))\n",
    "model.add(tf.keras.layers.Conv2D(side, (4,4), activation=\"tanh\"))\n",
    "#model.add(tf.keras.layers.Conv2D(16, (16,16), activation=\"sigmoid\"))\n",
    "#model.add(tf.keras.layers.Conv2D(1, (8,8), activation=\"sigmoid\"))\n",
    "model.add(tf.keras.layers.Flatten())\n",
    "model.add(tf.keras.layers.Dense(block_size,activation=\"tanh\"))\n",
    "#model.add(tf.keras.layers.Dense(block_size,activation=\"sigmoid\"))\n",
    "model.add(tf.keras.layers.Dense(block_size,activation=\"linear\"))\n",
    "model.output_shape"
   ]
  },
  {
   "cell_type": "code",
   "execution_count": null,
   "id": "887c417d",
   "metadata": {},
   "outputs": [],
   "source": [
    "model.summary()"
   ]
  },
  {
   "cell_type": "code",
   "execution_count": null,
   "id": "5499817f",
   "metadata": {},
   "outputs": [],
   "source": [
    "#opt = tf.keras.optimizers.AdamW(learning_rate=0.001, beta_1=0.9, beta_2=0.999, epsilon=1e-07)\n",
    "opt = tf.keras.optimizers.Adadelta(learning_rate=0.01)\n",
    "#opt = tf.keras.optimizers.Adagrad()\n",
    "\n",
    "earlyStopping = tf.keras.callbacks.EarlyStopping(monitor='val_loss', patience=10, verbose=0, mode='min')\n",
    "mcp_save = tf.keras.callbacks.ModelCheckpoint('.mdl_wts.hdf5', save_best_only=True, monitor='val_loss', mode='min')\n",
    "reduce_lr_loss = tf.keras.callbacks.ReduceLROnPlateau(monitor='val_loss', factor=0.75, patience=25, verbose=1, epsilon=1e-7, mode='min')\n",
    "\n",
    "model.compile(optimizer=opt,\n",
    "              #loss=tf.keras.losses.Huber(delta=1.0,reduction=\"auto\",name=\"huber_loss\"),\n",
    "              #loss=\"MSE\",\n",
    "              loss = \"MAE\",\n",
    "              #loss = \n",
    "              #loss = 'cosine_similarity',\n",
    "              metrics=[r_square]\n",
    ")"
   ]
  },
  {
   "cell_type": "code",
   "execution_count": null,
   "id": "ce89cca7",
   "metadata": {},
   "outputs": [],
   "source": [
    "initial_epochs = 100\n",
    "history = model.fit(\n",
    "    dset_train,\n",
    "    epochs=initial_epochs,\n",
    "    validation_data = dset_test,\n",
    "    callbacks=[earlyStopping, mcp_save, reduce_lr_loss]\n",
    ")"
   ]
  },
  {
   "cell_type": "code",
   "execution_count": null,
   "id": "33cd9dcf",
   "metadata": {},
   "outputs": [],
   "source": [
    "model_loaded = tf.keras.models.load_model('.mdl_wts.hdf5',custom_objects={'r_square':r_square})"
   ]
  },
  {
   "cell_type": "code",
   "execution_count": null,
   "id": "a69ad183",
   "metadata": {
    "scrolled": true
   },
   "outputs": [],
   "source": [
    "fakekSZTest = hp.reorder(hp.synfast(kSZ_PS,nside=NSIDE),r2n=True) #nest ordered\n",
    "fakeCMBTest = hp.reorder(hp.synfast(CMB_camb,nside=NSIDE),r2n=True) #nest ordered\n",
    "\n",
    "generatedInput = fakekSZTest + fakeCMBTest\n",
    "generatedInput = generatedInput.reshape(angularDivs,block_size)\n",
    "\n",
    "modeledkSZ = model_loaded.predict(generatedInput) #nest ordered\n",
    "\n",
    "modeledkSZ = modeledkSZ.flatten()\n",
    "\n",
    "# for j in range(angularDivs):\n",
    "#     pixels = np.arange(j*block_size,(j+1)*block_size)\n",
    "#     modeledkSZ[j,:] = model_loaded.predict(fakekSZTest[pixels].reshape(1,-1)) #extracting nest ordered chunks\n",
    "#     if j%25 == 0:\n",
    "#         print(j)\n",
    "    \n",
    "modeledkSZ = hp.reorder(modeledkSZ,n2r=True) #ring ordered\n",
    "fakekSZTest = hp.reorder(fakekSZTest,n2r=True) #ring ordered\n",
    "generatedInput = hp.reorder(fakekSZTest + fakeCMBTest,n2r=True) #ring ordered"
   ]
  },
  {
   "cell_type": "code",
   "execution_count": null,
   "id": "252fcd0f",
   "metadata": {},
   "outputs": [],
   "source": [
    "hp.mollview(modeledkSZ)#,nest=False)#,min=-15*10**-6,max=15*10**-6)"
   ]
  },
  {
   "cell_type": "code",
   "execution_count": null,
   "id": "b6edba77",
   "metadata": {},
   "outputs": [],
   "source": [
    "hp.mollview(fakekSZTest)#,nest=True)#,min=-5*10**-6,max=5*10**-6)"
   ]
  },
  {
   "cell_type": "code",
   "execution_count": null,
   "id": "7bed06d5",
   "metadata": {},
   "outputs": [],
   "source": [
    "hp.mollview(fakekSZTest/generatedInput)#,nest=True)#,min=-5*10**-6,max=5*10**-6)"
   ]
  },
  {
   "cell_type": "code",
   "execution_count": null,
   "id": "e7f1f1b3",
   "metadata": {},
   "outputs": [],
   "source": [
    "plt.hist(fakekSZTest/generatedInput,bins=np.linspace(-.1,.1));"
   ]
  },
  {
   "cell_type": "code",
   "execution_count": null,
   "id": "21370988",
   "metadata": {},
   "outputs": [],
   "source": [
    "plt.imshow(np.reshape(generatedInput[0:block_size],(int(np.sqrt(block_size)),-1)));\n",
    "plt.colorbar();\n",
    "plt.title('Model Input');"
   ]
  },
  {
   "cell_type": "code",
   "execution_count": null,
   "id": "546fe690",
   "metadata": {},
   "outputs": [],
   "source": [
    "plt.imshow(np.reshape(modeledkSZ[0:block_size],(int(np.sqrt(block_size)),-1)));\n",
    "plt.colorbar();\n",
    "plt.title('predicted kSZ');"
   ]
  },
  {
   "cell_type": "code",
   "execution_count": null,
   "id": "7ff640f0",
   "metadata": {},
   "outputs": [],
   "source": [
    "plt.imshow(np.reshape(fakekSZTest[0:block_size],(int(np.sqrt(block_size)),-1)));\n",
    "plt.colorbar();\n",
    "plt.title('Actual kSZ');"
   ]
  },
  {
   "cell_type": "code",
   "execution_count": null,
   "id": "e87f283a",
   "metadata": {},
   "outputs": [],
   "source": [
    "plt.imshow(np.reshape(fakekSZTest[0:block_size]-modeledkSZ[0:block_size],(int(np.sqrt(block_size)),-1)));\n",
    "plt.colorbar();\n",
    "plt.title('Difference');"
   ]
  },
  {
   "cell_type": "code",
   "execution_count": null,
   "id": "2ec0e9e6",
   "metadata": {},
   "outputs": [],
   "source": [
    "truthPS = hp.anafast(fakekSZTest)\n",
    "predictedPS = hp.anafast(modeledkSZ)\n",
    "crossCorrelation = hp.anafast(fakekSZTest,modeledkSZ)"
   ]
  },
  {
   "cell_type": "code",
   "execution_count": null,
   "id": "8243235d",
   "metadata": {},
   "outputs": [],
   "source": [
    "plt.loglog(truthPS);\n",
    "plt.loglog(predictedPS);\n",
    "plt.legend(['Truth','Prediction']);"
   ]
  },
  {
   "cell_type": "code",
   "execution_count": null,
   "id": "008314a7",
   "metadata": {},
   "outputs": [],
   "source": [
    "plt.semilogx(crossCorrelation/np.sqrt(np.multiply(truthPS,predictedPS)));\n",
    "plt.axhline(y = 0, color = 'r', linestyle = '-');"
   ]
  },
  {
   "cell_type": "code",
   "execution_count": null,
   "id": "3df6cb1d",
   "metadata": {},
   "outputs": [],
   "source": []
  }
 ],
 "metadata": {
  "kernelspec": {
   "display_name": "Python 3 (ipykernel)",
   "language": "python",
   "name": "python3"
  },
  "language_info": {
   "codemirror_mode": {
    "name": "ipython",
    "version": 3
   },
   "file_extension": ".py",
   "mimetype": "text/x-python",
   "name": "python",
   "nbconvert_exporter": "python",
   "pygments_lexer": "ipython3",
   "version": "3.8.13"
  }
 },
 "nbformat": 4,
 "nbformat_minor": 5
}
