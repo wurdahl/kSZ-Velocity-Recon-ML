{
 "cells": [
  {
   "cell_type": "code",
   "execution_count": 1,
   "id": "b074f831",
   "metadata": {},
   "outputs": [],
   "source": [
    "%matplotlib inline\n",
    "\n",
    "import matplotlib.pyplot as plt\n",
    "import healpy as hp\n",
    "import numpy as np\n",
    "import tensorflow as tf\n",
    "import keras\n",
    "\n",
    "import os"
   ]
  },
  {
   "cell_type": "code",
   "execution_count": 2,
   "id": "29d068b2",
   "metadata": {},
   "outputs": [],
   "source": [
    "kSZFiles = os.listdir('./Data/kSZPS')\n",
    "velFiles = os.listdir('./Data/velocityFieldPS')\n",
    "densFiles = os.listdir('./Data/overdensityPS')\n",
    "\n",
    "nside = 64\n",
    "lmax = 50\n",
    "numSets=len(densFiles)\n",
    "almSize = hp.sphtfunc.Alm.getsize(lmax)"
   ]
  },
  {
   "cell_type": "code",
   "execution_count": 3,
   "id": "56ec4b3e",
   "metadata": {},
   "outputs": [],
   "source": [
    "overdensData = np.zeros((numSets,almSize,2))\n",
    "kSZData = np.zeros((numSets,almSize,2))\n",
    "velData = np.zeros((numSets,almSize,2))"
   ]
  },
  {
   "cell_type": "code",
   "execution_count": 4,
   "id": "ff8aa28c",
   "metadata": {},
   "outputs": [],
   "source": [
    "for i in range(0,numSets):\n",
    "    overdensData[i] = np.load('./Data/overdensityPS/'+densFiles[i])\n",
    "    kSZData[i] = np.load('./Data/kSZPS/'+kSZFiles[i])\n",
    "    velData[i] = np.load('./Data/velocityFieldPS/'+velFiles[i])"
   ]
  },
  {
   "cell_type": "code",
   "execution_count": 5,
   "id": "489c2d22",
   "metadata": {},
   "outputs": [],
   "source": [
    "x_raw = np.stack((overdensData,kSZData),axis=2)\n",
    "x_raw = np.reshape(x_raw,(numSets,almSize,4))\n",
    "\n",
    "x_train, x_test = np.split(x_raw, indices_or_sections=[numSets-numSets//20])\n",
    "y_train, y_test = np.split(velData, indices_or_sections=[numSets-numSets//20])"
   ]
  },
  {
   "cell_type": "code",
   "execution_count": 6,
   "id": "52ecc65d",
   "metadata": {},
   "outputs": [
    {
     "name": "stderr",
     "output_type": "stream",
     "text": [
      "2023-11-15 16:05:32.800745: I tensorflow/core/platform/cpu_feature_guard.cc:151] This TensorFlow binary is optimized with oneAPI Deep Neural Network Library (oneDNN) to use the following CPU instructions in performance-critical operations:  SSE4.1 SSE4.2 AVX AVX2 AVX512F FMA\n",
      "To enable them in other operations, rebuild TensorFlow with the appropriate compiler flags.\n"
     ]
    }
   ],
   "source": [
    "dset_test = tf.data.Dataset.zip((tf.data.Dataset.from_tensor_slices(x_test),\n",
    "                                 tf.data.Dataset.from_tensor_slices(y_test)))\n",
    "dset_test = dset_test.shuffle(20)\n",
    "dset_test = dset_test.batch(8)\n",
    "\n",
    "dset_train = tf.data.Dataset.zip((tf.data.Dataset.from_tensor_slices(x_train),\n",
    "                                  tf.data.Dataset.from_tensor_slices(y_train)))\n",
    "dset_train = dset_train.shuffle(200)\n",
    "dset_train = dset_train.batch(8)"
   ]
  },
  {
   "cell_type": "code",
   "execution_count": 7,
   "id": "e37b69c2",
   "metadata": {},
   "outputs": [],
   "source": [
    "AUTOTUNE = tf.data.AUTOTUNE\n",
    "\n",
    "dset_train = dset_train.prefetch(buffer_size=AUTOTUNE)\n",
    "dset_test = dset_test.prefetch(buffer_size=AUTOTUNE)"
   ]
  },
  {
   "cell_type": "code",
   "execution_count": 31,
   "id": "f447197d",
   "metadata": {},
   "outputs": [],
   "source": [
    "model = keras.Sequential(\n",
    "    [   keras.layers.Flatten(),\n",
    "        keras.layers.Dense(2*almSize, activation=\"linear\", name=\"layer1\"),\n",
    "        keras.layers.Dense(2*almSize, activation=\"linear\", name=\"layer2\"),\n",
    "        #keras.layers.Dense(2*almSize, activation=\"linear\",name=\"layer3\"),\n",
    "        keras.layers.Reshape((almSize,2))\n",
    "    ]\n",
    ")"
   ]
  },
  {
   "cell_type": "code",
   "execution_count": 32,
   "id": "6875b2b3",
   "metadata": {},
   "outputs": [
    {
     "name": "stdout",
     "output_type": "stream",
     "text": [
      "Model: \"sequential_4\"\n",
      "______________________________________________________________________________________________________________\n",
      " Layer (type)                                    Output Shape                                Param #          \n",
      "==============================================================================================================\n",
      " flatten_4 (Flatten)                             (None, 5304)                                0                \n",
      "                                                                                                              \n",
      " layer1 (Dense)                                  (None, 2652)                                14068860         \n",
      "                                                                                                              \n",
      " layer2 (Dense)                                  (None, 2652)                                7035756          \n",
      "                                                                                                              \n",
      " reshape_4 (Reshape)                             (None, 1326, 2)                             0                \n",
      "                                                                                                              \n",
      "==============================================================================================================\n",
      "Total params: 21,104,616\n",
      "Trainable params: 21,104,616\n",
      "Non-trainable params: 0\n",
      "______________________________________________________________________________________________________________\n"
     ]
    }
   ],
   "source": [
    "model.build(input_shape=(None, almSize,4))\n",
    "model.summary(110)"
   ]
  },
  {
   "cell_type": "code",
   "execution_count": 33,
   "id": "01c54729",
   "metadata": {},
   "outputs": [],
   "source": [
    "def r_square(y_true, y_pred):\n",
    "    from keras import backend as K\n",
    "    SS_res =  K.sum(K.square(y_true - y_pred)) \n",
    "    SS_tot = K.sum(K.square(y_true - K.mean(y_true))) \n",
    "    return ( 1 - SS_res/(SS_tot + K.epsilon()) )"
   ]
  },
  {
   "cell_type": "code",
   "execution_count": 34,
   "id": "995f4547",
   "metadata": {},
   "outputs": [],
   "source": [
    "opt = tf.keras.optimizers.Adam(learning_rate=0.001, beta_1=0.9, beta_2=0.999, epsilon=1e-07)\n",
    "\n",
    "model.compile(optimizer=opt,\n",
    "              #loss=tf.keras.losses.Huber(delta=1.0,reduction=\"auto\",name=\"huber_loss\"),\n",
    "                loss=\"MSE\",\n",
    "              metrics=[r_square]\n",
    ")\n"
   ]
  },
  {
   "cell_type": "code",
   "execution_count": 35,
   "id": "daf02489",
   "metadata": {},
   "outputs": [
    {
     "name": "stdout",
     "output_type": "stream",
     "text": [
      "Epoch 1/20\n",
      "177/177 [==============================] - 4s 22ms/step - loss: 13894.0381 - r_square: -2.9159e-05 - val_loss: 14218.1670 - val_r_square: -8.1640e-05\n",
      "Epoch 2/20\n",
      "177/177 [==============================] - 4s 21ms/step - loss: 13886.0723 - r_square: 5.3697e-04 - val_loss: 14223.4033 - val_r_square: -2.5361e-04\n",
      "Epoch 3/20\n",
      "177/177 [==============================] - 4s 21ms/step - loss: 13847.9395 - r_square: 0.0033 - val_loss: 14236.0977 - val_r_square: -6.1032e-04\n",
      "Epoch 4/20\n",
      "177/177 [==============================] - 4s 22ms/step - loss: 13765.8203 - r_square: 0.0090 - val_loss: 14257.8838 - val_r_square: -0.0030\n",
      "Epoch 5/20\n",
      "177/177 [==============================] - 4s 21ms/step - loss: 13644.1846 - r_square: 0.0175 - val_loss: 14282.3613 - val_r_square: -0.0038\n",
      "Epoch 6/20\n",
      "177/177 [==============================] - 4s 20ms/step - loss: 13489.0234 - r_square: 0.0285 - val_loss: 14306.6484 - val_r_square: -0.0084\n",
      "Epoch 7/20\n",
      "177/177 [==============================] - 4s 21ms/step - loss: 13304.3301 - r_square: 0.0414 - val_loss: 14342.9863 - val_r_square: -0.0082\n",
      "Epoch 8/20\n",
      "177/177 [==============================] - 4s 21ms/step - loss: 13095.5029 - r_square: 0.0556 - val_loss: 14367.3750 - val_r_square: -0.0068\n",
      "Epoch 9/20\n",
      "177/177 [==============================] - 4s 22ms/step - loss: 12866.8955 - r_square: 0.0720 - val_loss: 14409.8125 - val_r_square: -0.0124\n",
      "Epoch 10/20\n",
      "177/177 [==============================] - 4s 21ms/step - loss: 12624.2734 - r_square: 0.0879 - val_loss: 14452.2041 - val_r_square: -0.0230\n",
      "Epoch 11/20\n",
      "177/177 [==============================] - 4s 22ms/step - loss: 12372.2441 - r_square: 0.1057 - val_loss: 14501.9395 - val_r_square: -0.0254\n",
      "Epoch 12/20\n",
      "177/177 [==============================] - 4s 21ms/step - loss: 12111.9746 - r_square: 0.1242 - val_loss: 14559.0117 - val_r_square: -0.0201\n",
      "Epoch 13/20\n",
      "177/177 [==============================] - 4s 22ms/step - loss: 11848.7061 - r_square: 0.1424 - val_loss: 14626.5283 - val_r_square: -0.0394\n",
      "Epoch 14/20\n",
      "177/177 [==============================] - 4s 22ms/step - loss: 11580.3193 - r_square: 0.1621 - val_loss: 14695.2598 - val_r_square: -0.0335\n",
      "Epoch 15/20\n",
      "177/177 [==============================] - 4s 21ms/step - loss: 11315.1689 - r_square: 0.1793 - val_loss: 14779.1621 - val_r_square: -0.0518\n",
      "Epoch 16/20\n",
      "177/177 [==============================] - 4s 24ms/step - loss: 11053.8799 - r_square: 0.1983 - val_loss: 14856.8076 - val_r_square: -0.0328\n",
      "Epoch 17/20\n",
      "177/177 [==============================] - 4s 22ms/step - loss: 10796.1797 - r_square: 0.2163 - val_loss: 14945.5205 - val_r_square: -0.0561\n",
      "Epoch 18/20\n",
      "177/177 [==============================] - 4s 22ms/step - loss: 10546.7188 - r_square: 0.2315 - val_loss: 15052.9980 - val_r_square: -0.0578\n",
      "Epoch 19/20\n",
      "177/177 [==============================] - 4s 22ms/step - loss: 10303.5879 - r_square: 0.2494 - val_loss: 15140.0947 - val_r_square: -0.0545\n",
      "Epoch 20/20\n",
      "177/177 [==============================] - 4s 21ms/step - loss: 10066.4766 - r_square: 0.2659 - val_loss: 15274.7617 - val_r_square: -0.0664\n"
     ]
    }
   ],
   "source": [
    "initial_epochs = 20\n",
    "history = model.fit(\n",
    "    dset_train,\n",
    "    epochs=initial_epochs,\n",
    "    validation_data = dset_test,\n",
    ")"
   ]
  },
  {
   "cell_type": "code",
   "execution_count": 36,
   "id": "40e61a40",
   "metadata": {
    "scrolled": false
   },
   "outputs": [
    {
     "name": "stdout",
     "output_type": "stream",
     "text": [
      "Epoch 20/100\n",
      "177/177 [==============================] - 4s 21ms/step - loss: 9842.0615 - r_square: 0.2817 - val_loss: 15381.2734 - val_r_square: -0.0658\n",
      "Epoch 21/100\n",
      "177/177 [==============================] - 4s 21ms/step - loss: 9623.6631 - r_square: 0.2943 - val_loss: 15492.0625 - val_r_square: -0.0970\n",
      "Epoch 22/100\n",
      "177/177 [==============================] - 3s 19ms/step - loss: 9417.0742 - r_square: 0.3086 - val_loss: 15609.4424 - val_r_square: -0.0964\n",
      "Epoch 23/100\n",
      "177/177 [==============================] - 4s 20ms/step - loss: 9219.1484 - r_square: 0.3248 - val_loss: 15722.6064 - val_r_square: -0.0960\n",
      "Epoch 24/100\n",
      "177/177 [==============================] - 3s 19ms/step - loss: 9027.0273 - r_square: 0.3382 - val_loss: 15858.3359 - val_r_square: -0.1563\n",
      "Epoch 25/100\n",
      "177/177 [==============================] - 4s 20ms/step - loss: 8843.1689 - r_square: 0.3489 - val_loss: 15971.3057 - val_r_square: -0.1266\n",
      "Epoch 26/100\n",
      "177/177 [==============================] - 4s 20ms/step - loss: 8668.4766 - r_square: 0.3629 - val_loss: 16102.6299 - val_r_square: -0.1200\n",
      "Epoch 27/100\n",
      "177/177 [==============================] - 4s 20ms/step - loss: 8500.2627 - r_square: 0.3724 - val_loss: 16233.9658 - val_r_square: -0.1696\n",
      "Epoch 28/100\n",
      "177/177 [==============================] - 4s 20ms/step - loss: 8337.5410 - r_square: 0.3860 - val_loss: 16368.8096 - val_r_square: -0.1719\n",
      "Epoch 29/100\n",
      "177/177 [==============================] - 4s 21ms/step - loss: 8181.7358 - r_square: 0.4004 - val_loss: 16497.3223 - val_r_square: -0.1493\n",
      "Epoch 30/100\n",
      "177/177 [==============================] - 4s 20ms/step - loss: 8033.8916 - r_square: 0.4067 - val_loss: 16615.7793 - val_r_square: -0.1436\n",
      "Epoch 31/100\n",
      "177/177 [==============================] - 4s 20ms/step - loss: 7887.4819 - r_square: 0.4176 - val_loss: 16758.9570 - val_r_square: -0.2208\n",
      "Epoch 32/100\n",
      "177/177 [==============================] - 4s 20ms/step - loss: 7748.3330 - r_square: 0.4268 - val_loss: 16901.0195 - val_r_square: -0.1583\n",
      "Epoch 33/100\n",
      "177/177 [==============================] - 3s 20ms/step - loss: 7614.8228 - r_square: 0.4367 - val_loss: 17020.2266 - val_r_square: -0.2236\n",
      "Epoch 34/100\n",
      "177/177 [==============================] - 4s 20ms/step - loss: 7484.2275 - r_square: 0.4469 - val_loss: 17136.1445 - val_r_square: -0.2521\n",
      "Epoch 35/100\n",
      "177/177 [==============================] - 3s 19ms/step - loss: 7357.8286 - r_square: 0.4556 - val_loss: 17266.3535 - val_r_square: -0.2731\n",
      "Epoch 36/100\n",
      "177/177 [==============================] - 3s 20ms/step - loss: 7235.6060 - r_square: 0.4631 - val_loss: 17403.4219 - val_r_square: -0.2020\n",
      "Epoch 37/100\n",
      "177/177 [==============================] - 3s 19ms/step - loss: 7116.0972 - r_square: 0.4739 - val_loss: 17531.0820 - val_r_square: -0.2517\n",
      "Epoch 38/100\n",
      "177/177 [==============================] - 4s 20ms/step - loss: 7001.0146 - r_square: 0.4804 - val_loss: 17649.2324 - val_r_square: -0.2219\n",
      "Epoch 39/100\n",
      "177/177 [==============================] - 3s 20ms/step - loss: 6887.9717 - r_square: 0.4911 - val_loss: 17763.6309 - val_r_square: -0.2480\n",
      "Epoch 40/100\n",
      "177/177 [==============================] - 4s 22ms/step - loss: 6779.5820 - r_square: 0.4967 - val_loss: 17867.3066 - val_r_square: -0.2324\n",
      "Epoch 41/100\n",
      "177/177 [==============================] - 4s 22ms/step - loss: 6671.8022 - r_square: 0.5041 - val_loss: 17988.7617 - val_r_square: -0.2333\n",
      "Epoch 42/100\n",
      "177/177 [==============================] - 4s 22ms/step - loss: 6569.3188 - r_square: 0.5132 - val_loss: 18103.6055 - val_r_square: -0.2653\n",
      "Epoch 43/100\n",
      "177/177 [==============================] - 4s 21ms/step - loss: 6466.9272 - r_square: 0.5200 - val_loss: 18218.3066 - val_r_square: -0.3104\n",
      "Epoch 44/100\n",
      "177/177 [==============================] - 4s 22ms/step - loss: 6367.4409 - r_square: 0.5278 - val_loss: 18336.2695 - val_r_square: -0.2897\n",
      "Epoch 45/100\n",
      "177/177 [==============================] - 4s 22ms/step - loss: 6271.7251 - r_square: 0.5335 - val_loss: 18472.0527 - val_r_square: -0.2687\n",
      "Epoch 46/100\n",
      "177/177 [==============================] - 4s 22ms/step - loss: 6177.0454 - r_square: 0.5400 - val_loss: 18565.8027 - val_r_square: -0.3363\n",
      "Epoch 47/100\n",
      "177/177 [==============================] - 4s 22ms/step - loss: 6083.9233 - r_square: 0.5469 - val_loss: 18673.7559 - val_r_square: -0.3204\n",
      "Epoch 48/100\n",
      "177/177 [==============================] - 4s 21ms/step - loss: 5993.6108 - r_square: 0.5542 - val_loss: 18794.4043 - val_r_square: -0.3046\n",
      "Epoch 49/100\n",
      "177/177 [==============================] - 4s 23ms/step - loss: 5905.4478 - r_square: 0.5591 - val_loss: 18910.0254 - val_r_square: -0.3084\n",
      "Epoch 50/100\n",
      "177/177 [==============================] - 4s 21ms/step - loss: 5818.7793 - r_square: 0.5673 - val_loss: 19028.0723 - val_r_square: -0.3947\n",
      "Epoch 51/100\n",
      "177/177 [==============================] - 4s 21ms/step - loss: 5732.9160 - r_square: 0.5723 - val_loss: 19140.9941 - val_r_square: -0.3336\n",
      "Epoch 52/100\n",
      "177/177 [==============================] - 4s 20ms/step - loss: 5649.6216 - r_square: 0.5798 - val_loss: 19262.2754 - val_r_square: -0.3751\n",
      "Epoch 53/100\n",
      "177/177 [==============================] - 4s 20ms/step - loss: 5568.8960 - r_square: 0.5848 - val_loss: 19366.4902 - val_r_square: -0.4000\n",
      "Epoch 54/100\n",
      "177/177 [==============================] - 4s 21ms/step - loss: 5489.5947 - r_square: 0.5918 - val_loss: 19456.7285 - val_r_square: -0.3511\n",
      "Epoch 55/100\n",
      "177/177 [==============================] - 3s 20ms/step - loss: 5409.4551 - r_square: 0.5957 - val_loss: 19590.4707 - val_r_square: -0.3527\n",
      "Epoch 56/100\n",
      "177/177 [==============================] - 4s 20ms/step - loss: 5333.9541 - r_square: 0.6048 - val_loss: 19684.3066 - val_r_square: -0.3533\n",
      "Epoch 57/100\n",
      "177/177 [==============================] - 4s 20ms/step - loss: 5258.3027 - r_square: 0.6070 - val_loss: 19784.8145 - val_r_square: -0.4262\n",
      "Epoch 58/100\n",
      "177/177 [==============================] - 4s 21ms/step - loss: 5184.1812 - r_square: 0.6149 - val_loss: 19900.0195 - val_r_square: -0.4323\n",
      "Epoch 59/100\n",
      "177/177 [==============================] - 4s 20ms/step - loss: 5112.3042 - r_square: 0.6190 - val_loss: 20020.3555 - val_r_square: -0.3569\n",
      "Epoch 60/100\n",
      "177/177 [==============================] - 4s 21ms/step - loss: 5039.4814 - r_square: 0.6252 - val_loss: 20123.3027 - val_r_square: -0.4170\n",
      "Epoch 61/100\n",
      "177/177 [==============================] - 4s 20ms/step - loss: 4970.1479 - r_square: 0.6306 - val_loss: 20225.5371 - val_r_square: -0.3865\n",
      "Epoch 62/100\n",
      "177/177 [==============================] - 4s 22ms/step - loss: 4901.5024 - r_square: 0.6344 - val_loss: 20342.0938 - val_r_square: -0.4116\n",
      "Epoch 63/100\n",
      "177/177 [==============================] - 4s 21ms/step - loss: 4834.3413 - r_square: 0.6393 - val_loss: 20444.2578 - val_r_square: -0.4421\n",
      "Epoch 64/100\n",
      "177/177 [==============================] - 4s 22ms/step - loss: 4766.6714 - r_square: 0.6442 - val_loss: 20575.0312 - val_r_square: -0.4250\n",
      "Epoch 65/100\n",
      "177/177 [==============================] - 4s 22ms/step - loss: 4701.6313 - r_square: 0.6478 - val_loss: 20671.4570 - val_r_square: -0.4348\n",
      "Epoch 66/100\n",
      "177/177 [==============================] - 4s 22ms/step - loss: 4637.2930 - r_square: 0.6562 - val_loss: 20778.4395 - val_r_square: -0.4640\n",
      "Epoch 67/100\n",
      " 30/177 [====>.........................] - ETA: 2s - loss: 4525.8564 - r_square: 0.6656"
     ]
    },
    {
     "ename": "KeyboardInterrupt",
     "evalue": "",
     "output_type": "error",
     "traceback": [
      "\u001b[0;31m---------------------------------------------------------------------------\u001b[0m",
      "\u001b[0;31mKeyboardInterrupt\u001b[0m                         Traceback (most recent call last)",
      "Input \u001b[0;32mIn [36]\u001b[0m, in \u001b[0;36m<cell line: 4>\u001b[0;34m()\u001b[0m\n\u001b[1;32m      1\u001b[0m fine_tune_epochs \u001b[38;5;241m=\u001b[39m \u001b[38;5;241m80\u001b[39m\n\u001b[1;32m      2\u001b[0m total_epochs \u001b[38;5;241m=\u001b[39m  initial_epochs \u001b[38;5;241m+\u001b[39m fine_tune_epochs\n\u001b[0;32m----> 4\u001b[0m history_further \u001b[38;5;241m=\u001b[39m \u001b[43mmodel\u001b[49m\u001b[38;5;241;43m.\u001b[39;49m\u001b[43mfit\u001b[49m\u001b[43m(\u001b[49m\u001b[43mdset_train\u001b[49m\u001b[43m,\u001b[49m\n\u001b[1;32m      5\u001b[0m \u001b[43m                         \u001b[49m\u001b[43mepochs\u001b[49m\u001b[38;5;241;43m=\u001b[39;49m\u001b[43mtotal_epochs\u001b[49m\u001b[43m,\u001b[49m\n\u001b[1;32m      6\u001b[0m \u001b[43m                         \u001b[49m\u001b[43minitial_epoch\u001b[49m\u001b[38;5;241;43m=\u001b[39;49m\u001b[43mhistory\u001b[49m\u001b[38;5;241;43m.\u001b[39;49m\u001b[43mepoch\u001b[49m\u001b[43m[\u001b[49m\u001b[38;5;241;43m-\u001b[39;49m\u001b[38;5;241;43m1\u001b[39;49m\u001b[43m]\u001b[49m\u001b[43m,\u001b[49m\n\u001b[1;32m      7\u001b[0m \u001b[43m                         \u001b[49m\u001b[43mvalidation_data\u001b[49m\u001b[38;5;241;43m=\u001b[39;49m\u001b[43mdset_test\u001b[49m\u001b[43m)\u001b[49m\n",
      "File \u001b[0;32m/data/wurdahl/physics/lib/python3.8/site-packages/keras/utils/traceback_utils.py:64\u001b[0m, in \u001b[0;36mfilter_traceback.<locals>.error_handler\u001b[0;34m(*args, **kwargs)\u001b[0m\n\u001b[1;32m     62\u001b[0m filtered_tb \u001b[38;5;241m=\u001b[39m \u001b[38;5;28;01mNone\u001b[39;00m\n\u001b[1;32m     63\u001b[0m \u001b[38;5;28;01mtry\u001b[39;00m:\n\u001b[0;32m---> 64\u001b[0m   \u001b[38;5;28;01mreturn\u001b[39;00m \u001b[43mfn\u001b[49m\u001b[43m(\u001b[49m\u001b[38;5;241;43m*\u001b[39;49m\u001b[43margs\u001b[49m\u001b[43m,\u001b[49m\u001b[43m \u001b[49m\u001b[38;5;241;43m*\u001b[39;49m\u001b[38;5;241;43m*\u001b[39;49m\u001b[43mkwargs\u001b[49m\u001b[43m)\u001b[49m\n\u001b[1;32m     65\u001b[0m \u001b[38;5;28;01mexcept\u001b[39;00m \u001b[38;5;167;01mException\u001b[39;00m \u001b[38;5;28;01mas\u001b[39;00m e:  \u001b[38;5;66;03m# pylint: disable=broad-except\u001b[39;00m\n\u001b[1;32m     66\u001b[0m   filtered_tb \u001b[38;5;241m=\u001b[39m _process_traceback_frames(e\u001b[38;5;241m.\u001b[39m__traceback__)\n",
      "File \u001b[0;32m/data/wurdahl/physics/lib/python3.8/site-packages/keras/engine/training.py:1216\u001b[0m, in \u001b[0;36mModel.fit\u001b[0;34m(self, x, y, batch_size, epochs, verbose, callbacks, validation_split, validation_data, shuffle, class_weight, sample_weight, initial_epoch, steps_per_epoch, validation_steps, validation_batch_size, validation_freq, max_queue_size, workers, use_multiprocessing)\u001b[0m\n\u001b[1;32m   1209\u001b[0m \u001b[38;5;28;01mwith\u001b[39;00m tf\u001b[38;5;241m.\u001b[39mprofiler\u001b[38;5;241m.\u001b[39mexperimental\u001b[38;5;241m.\u001b[39mTrace(\n\u001b[1;32m   1210\u001b[0m     \u001b[38;5;124m'\u001b[39m\u001b[38;5;124mtrain\u001b[39m\u001b[38;5;124m'\u001b[39m,\n\u001b[1;32m   1211\u001b[0m     epoch_num\u001b[38;5;241m=\u001b[39mepoch,\n\u001b[1;32m   1212\u001b[0m     step_num\u001b[38;5;241m=\u001b[39mstep,\n\u001b[1;32m   1213\u001b[0m     batch_size\u001b[38;5;241m=\u001b[39mbatch_size,\n\u001b[1;32m   1214\u001b[0m     _r\u001b[38;5;241m=\u001b[39m\u001b[38;5;241m1\u001b[39m):\n\u001b[1;32m   1215\u001b[0m   callbacks\u001b[38;5;241m.\u001b[39mon_train_batch_begin(step)\n\u001b[0;32m-> 1216\u001b[0m   tmp_logs \u001b[38;5;241m=\u001b[39m \u001b[38;5;28;43mself\u001b[39;49m\u001b[38;5;241;43m.\u001b[39;49m\u001b[43mtrain_function\u001b[49m\u001b[43m(\u001b[49m\u001b[43miterator\u001b[49m\u001b[43m)\u001b[49m\n\u001b[1;32m   1217\u001b[0m   \u001b[38;5;28;01mif\u001b[39;00m data_handler\u001b[38;5;241m.\u001b[39mshould_sync:\n\u001b[1;32m   1218\u001b[0m     context\u001b[38;5;241m.\u001b[39masync_wait()\n",
      "File \u001b[0;32m/data/wurdahl/physics/lib/python3.8/site-packages/tensorflow/python/util/traceback_utils.py:150\u001b[0m, in \u001b[0;36mfilter_traceback.<locals>.error_handler\u001b[0;34m(*args, **kwargs)\u001b[0m\n\u001b[1;32m    148\u001b[0m filtered_tb \u001b[38;5;241m=\u001b[39m \u001b[38;5;28;01mNone\u001b[39;00m\n\u001b[1;32m    149\u001b[0m \u001b[38;5;28;01mtry\u001b[39;00m:\n\u001b[0;32m--> 150\u001b[0m   \u001b[38;5;28;01mreturn\u001b[39;00m \u001b[43mfn\u001b[49m\u001b[43m(\u001b[49m\u001b[38;5;241;43m*\u001b[39;49m\u001b[43margs\u001b[49m\u001b[43m,\u001b[49m\u001b[43m \u001b[49m\u001b[38;5;241;43m*\u001b[39;49m\u001b[38;5;241;43m*\u001b[39;49m\u001b[43mkwargs\u001b[49m\u001b[43m)\u001b[49m\n\u001b[1;32m    151\u001b[0m \u001b[38;5;28;01mexcept\u001b[39;00m \u001b[38;5;167;01mException\u001b[39;00m \u001b[38;5;28;01mas\u001b[39;00m e:\n\u001b[1;32m    152\u001b[0m   filtered_tb \u001b[38;5;241m=\u001b[39m _process_traceback_frames(e\u001b[38;5;241m.\u001b[39m__traceback__)\n",
      "File \u001b[0;32m/data/wurdahl/physics/lib/python3.8/site-packages/tensorflow/python/eager/def_function.py:910\u001b[0m, in \u001b[0;36mFunction.__call__\u001b[0;34m(self, *args, **kwds)\u001b[0m\n\u001b[1;32m    907\u001b[0m compiler \u001b[38;5;241m=\u001b[39m \u001b[38;5;124m\"\u001b[39m\u001b[38;5;124mxla\u001b[39m\u001b[38;5;124m\"\u001b[39m \u001b[38;5;28;01mif\u001b[39;00m \u001b[38;5;28mself\u001b[39m\u001b[38;5;241m.\u001b[39m_jit_compile \u001b[38;5;28;01melse\u001b[39;00m \u001b[38;5;124m\"\u001b[39m\u001b[38;5;124mnonXla\u001b[39m\u001b[38;5;124m\"\u001b[39m\n\u001b[1;32m    909\u001b[0m \u001b[38;5;28;01mwith\u001b[39;00m OptionalXlaContext(\u001b[38;5;28mself\u001b[39m\u001b[38;5;241m.\u001b[39m_jit_compile):\n\u001b[0;32m--> 910\u001b[0m   result \u001b[38;5;241m=\u001b[39m \u001b[38;5;28;43mself\u001b[39;49m\u001b[38;5;241;43m.\u001b[39;49m\u001b[43m_call\u001b[49m\u001b[43m(\u001b[49m\u001b[38;5;241;43m*\u001b[39;49m\u001b[43margs\u001b[49m\u001b[43m,\u001b[49m\u001b[43m \u001b[49m\u001b[38;5;241;43m*\u001b[39;49m\u001b[38;5;241;43m*\u001b[39;49m\u001b[43mkwds\u001b[49m\u001b[43m)\u001b[49m\n\u001b[1;32m    912\u001b[0m new_tracing_count \u001b[38;5;241m=\u001b[39m \u001b[38;5;28mself\u001b[39m\u001b[38;5;241m.\u001b[39mexperimental_get_tracing_count()\n\u001b[1;32m    913\u001b[0m without_tracing \u001b[38;5;241m=\u001b[39m (tracing_count \u001b[38;5;241m==\u001b[39m new_tracing_count)\n",
      "File \u001b[0;32m/data/wurdahl/physics/lib/python3.8/site-packages/tensorflow/python/eager/def_function.py:942\u001b[0m, in \u001b[0;36mFunction._call\u001b[0;34m(self, *args, **kwds)\u001b[0m\n\u001b[1;32m    939\u001b[0m   \u001b[38;5;28mself\u001b[39m\u001b[38;5;241m.\u001b[39m_lock\u001b[38;5;241m.\u001b[39mrelease()\n\u001b[1;32m    940\u001b[0m   \u001b[38;5;66;03m# In this case we have created variables on the first call, so we run the\u001b[39;00m\n\u001b[1;32m    941\u001b[0m   \u001b[38;5;66;03m# defunned version which is guaranteed to never create variables.\u001b[39;00m\n\u001b[0;32m--> 942\u001b[0m   \u001b[38;5;28;01mreturn\u001b[39;00m \u001b[38;5;28;43mself\u001b[39;49m\u001b[38;5;241;43m.\u001b[39;49m\u001b[43m_stateless_fn\u001b[49m\u001b[43m(\u001b[49m\u001b[38;5;241;43m*\u001b[39;49m\u001b[43margs\u001b[49m\u001b[43m,\u001b[49m\u001b[43m \u001b[49m\u001b[38;5;241;43m*\u001b[39;49m\u001b[38;5;241;43m*\u001b[39;49m\u001b[43mkwds\u001b[49m\u001b[43m)\u001b[49m  \u001b[38;5;66;03m# pylint: disable=not-callable\u001b[39;00m\n\u001b[1;32m    943\u001b[0m \u001b[38;5;28;01melif\u001b[39;00m \u001b[38;5;28mself\u001b[39m\u001b[38;5;241m.\u001b[39m_stateful_fn \u001b[38;5;129;01mis\u001b[39;00m \u001b[38;5;129;01mnot\u001b[39;00m \u001b[38;5;28;01mNone\u001b[39;00m:\n\u001b[1;32m    944\u001b[0m   \u001b[38;5;66;03m# Release the lock early so that multiple threads can perform the call\u001b[39;00m\n\u001b[1;32m    945\u001b[0m   \u001b[38;5;66;03m# in parallel.\u001b[39;00m\n\u001b[1;32m    946\u001b[0m   \u001b[38;5;28mself\u001b[39m\u001b[38;5;241m.\u001b[39m_lock\u001b[38;5;241m.\u001b[39mrelease()\n",
      "File \u001b[0;32m/data/wurdahl/physics/lib/python3.8/site-packages/tensorflow/python/eager/function.py:3130\u001b[0m, in \u001b[0;36mFunction.__call__\u001b[0;34m(self, *args, **kwargs)\u001b[0m\n\u001b[1;32m   3127\u001b[0m \u001b[38;5;28;01mwith\u001b[39;00m \u001b[38;5;28mself\u001b[39m\u001b[38;5;241m.\u001b[39m_lock:\n\u001b[1;32m   3128\u001b[0m   (graph_function,\n\u001b[1;32m   3129\u001b[0m    filtered_flat_args) \u001b[38;5;241m=\u001b[39m \u001b[38;5;28mself\u001b[39m\u001b[38;5;241m.\u001b[39m_maybe_define_function(args, kwargs)\n\u001b[0;32m-> 3130\u001b[0m \u001b[38;5;28;01mreturn\u001b[39;00m \u001b[43mgraph_function\u001b[49m\u001b[38;5;241;43m.\u001b[39;49m\u001b[43m_call_flat\u001b[49m\u001b[43m(\u001b[49m\n\u001b[1;32m   3131\u001b[0m \u001b[43m    \u001b[49m\u001b[43mfiltered_flat_args\u001b[49m\u001b[43m,\u001b[49m\u001b[43m \u001b[49m\u001b[43mcaptured_inputs\u001b[49m\u001b[38;5;241;43m=\u001b[39;49m\u001b[43mgraph_function\u001b[49m\u001b[38;5;241;43m.\u001b[39;49m\u001b[43mcaptured_inputs\u001b[49m\u001b[43m)\u001b[49m\n",
      "File \u001b[0;32m/data/wurdahl/physics/lib/python3.8/site-packages/tensorflow/python/eager/function.py:1959\u001b[0m, in \u001b[0;36mConcreteFunction._call_flat\u001b[0;34m(self, args, captured_inputs, cancellation_manager)\u001b[0m\n\u001b[1;32m   1955\u001b[0m possible_gradient_type \u001b[38;5;241m=\u001b[39m gradients_util\u001b[38;5;241m.\u001b[39mPossibleTapeGradientTypes(args)\n\u001b[1;32m   1956\u001b[0m \u001b[38;5;28;01mif\u001b[39;00m (possible_gradient_type \u001b[38;5;241m==\u001b[39m gradients_util\u001b[38;5;241m.\u001b[39mPOSSIBLE_GRADIENT_TYPES_NONE\n\u001b[1;32m   1957\u001b[0m     \u001b[38;5;129;01mand\u001b[39;00m executing_eagerly):\n\u001b[1;32m   1958\u001b[0m   \u001b[38;5;66;03m# No tape is watching; skip to running the function.\u001b[39;00m\n\u001b[0;32m-> 1959\u001b[0m   \u001b[38;5;28;01mreturn\u001b[39;00m \u001b[38;5;28mself\u001b[39m\u001b[38;5;241m.\u001b[39m_build_call_outputs(\u001b[38;5;28;43mself\u001b[39;49m\u001b[38;5;241;43m.\u001b[39;49m\u001b[43m_inference_function\u001b[49m\u001b[38;5;241;43m.\u001b[39;49m\u001b[43mcall\u001b[49m\u001b[43m(\u001b[49m\n\u001b[1;32m   1960\u001b[0m \u001b[43m      \u001b[49m\u001b[43mctx\u001b[49m\u001b[43m,\u001b[49m\u001b[43m \u001b[49m\u001b[43margs\u001b[49m\u001b[43m,\u001b[49m\u001b[43m \u001b[49m\u001b[43mcancellation_manager\u001b[49m\u001b[38;5;241;43m=\u001b[39;49m\u001b[43mcancellation_manager\u001b[49m\u001b[43m)\u001b[49m)\n\u001b[1;32m   1961\u001b[0m forward_backward \u001b[38;5;241m=\u001b[39m \u001b[38;5;28mself\u001b[39m\u001b[38;5;241m.\u001b[39m_select_forward_and_backward_functions(\n\u001b[1;32m   1962\u001b[0m     args,\n\u001b[1;32m   1963\u001b[0m     possible_gradient_type,\n\u001b[1;32m   1964\u001b[0m     executing_eagerly)\n\u001b[1;32m   1965\u001b[0m forward_function, args_with_tangents \u001b[38;5;241m=\u001b[39m forward_backward\u001b[38;5;241m.\u001b[39mforward()\n",
      "File \u001b[0;32m/data/wurdahl/physics/lib/python3.8/site-packages/tensorflow/python/eager/function.py:598\u001b[0m, in \u001b[0;36m_EagerDefinedFunction.call\u001b[0;34m(self, ctx, args, cancellation_manager)\u001b[0m\n\u001b[1;32m    596\u001b[0m \u001b[38;5;28;01mwith\u001b[39;00m _InterpolateFunctionError(\u001b[38;5;28mself\u001b[39m):\n\u001b[1;32m    597\u001b[0m   \u001b[38;5;28;01mif\u001b[39;00m cancellation_manager \u001b[38;5;129;01mis\u001b[39;00m \u001b[38;5;28;01mNone\u001b[39;00m:\n\u001b[0;32m--> 598\u001b[0m     outputs \u001b[38;5;241m=\u001b[39m \u001b[43mexecute\u001b[49m\u001b[38;5;241;43m.\u001b[39;49m\u001b[43mexecute\u001b[49m\u001b[43m(\u001b[49m\n\u001b[1;32m    599\u001b[0m \u001b[43m        \u001b[49m\u001b[38;5;28;43mstr\u001b[39;49m\u001b[43m(\u001b[49m\u001b[38;5;28;43mself\u001b[39;49m\u001b[38;5;241;43m.\u001b[39;49m\u001b[43msignature\u001b[49m\u001b[38;5;241;43m.\u001b[39;49m\u001b[43mname\u001b[49m\u001b[43m)\u001b[49m\u001b[43m,\u001b[49m\n\u001b[1;32m    600\u001b[0m \u001b[43m        \u001b[49m\u001b[43mnum_outputs\u001b[49m\u001b[38;5;241;43m=\u001b[39;49m\u001b[38;5;28;43mself\u001b[39;49m\u001b[38;5;241;43m.\u001b[39;49m\u001b[43m_num_outputs\u001b[49m\u001b[43m,\u001b[49m\n\u001b[1;32m    601\u001b[0m \u001b[43m        \u001b[49m\u001b[43minputs\u001b[49m\u001b[38;5;241;43m=\u001b[39;49m\u001b[43margs\u001b[49m\u001b[43m,\u001b[49m\n\u001b[1;32m    602\u001b[0m \u001b[43m        \u001b[49m\u001b[43mattrs\u001b[49m\u001b[38;5;241;43m=\u001b[39;49m\u001b[43mattrs\u001b[49m\u001b[43m,\u001b[49m\n\u001b[1;32m    603\u001b[0m \u001b[43m        \u001b[49m\u001b[43mctx\u001b[49m\u001b[38;5;241;43m=\u001b[39;49m\u001b[43mctx\u001b[49m\u001b[43m)\u001b[49m\n\u001b[1;32m    604\u001b[0m   \u001b[38;5;28;01melse\u001b[39;00m:\n\u001b[1;32m    605\u001b[0m     outputs \u001b[38;5;241m=\u001b[39m execute\u001b[38;5;241m.\u001b[39mexecute_with_cancellation(\n\u001b[1;32m    606\u001b[0m         \u001b[38;5;28mstr\u001b[39m(\u001b[38;5;28mself\u001b[39m\u001b[38;5;241m.\u001b[39msignature\u001b[38;5;241m.\u001b[39mname),\n\u001b[1;32m    607\u001b[0m         num_outputs\u001b[38;5;241m=\u001b[39m\u001b[38;5;28mself\u001b[39m\u001b[38;5;241m.\u001b[39m_num_outputs,\n\u001b[0;32m   (...)\u001b[0m\n\u001b[1;32m    610\u001b[0m         ctx\u001b[38;5;241m=\u001b[39mctx,\n\u001b[1;32m    611\u001b[0m         cancellation_manager\u001b[38;5;241m=\u001b[39mcancellation_manager)\n",
      "File \u001b[0;32m/data/wurdahl/physics/lib/python3.8/site-packages/tensorflow/python/eager/execute.py:58\u001b[0m, in \u001b[0;36mquick_execute\u001b[0;34m(op_name, num_outputs, inputs, attrs, ctx, name)\u001b[0m\n\u001b[1;32m     56\u001b[0m \u001b[38;5;28;01mtry\u001b[39;00m:\n\u001b[1;32m     57\u001b[0m   ctx\u001b[38;5;241m.\u001b[39mensure_initialized()\n\u001b[0;32m---> 58\u001b[0m   tensors \u001b[38;5;241m=\u001b[39m \u001b[43mpywrap_tfe\u001b[49m\u001b[38;5;241;43m.\u001b[39;49m\u001b[43mTFE_Py_Execute\u001b[49m\u001b[43m(\u001b[49m\u001b[43mctx\u001b[49m\u001b[38;5;241;43m.\u001b[39;49m\u001b[43m_handle\u001b[49m\u001b[43m,\u001b[49m\u001b[43m \u001b[49m\u001b[43mdevice_name\u001b[49m\u001b[43m,\u001b[49m\u001b[43m \u001b[49m\u001b[43mop_name\u001b[49m\u001b[43m,\u001b[49m\n\u001b[1;32m     59\u001b[0m \u001b[43m                                      \u001b[49m\u001b[43minputs\u001b[49m\u001b[43m,\u001b[49m\u001b[43m \u001b[49m\u001b[43mattrs\u001b[49m\u001b[43m,\u001b[49m\u001b[43m \u001b[49m\u001b[43mnum_outputs\u001b[49m\u001b[43m)\u001b[49m\n\u001b[1;32m     60\u001b[0m \u001b[38;5;28;01mexcept\u001b[39;00m core\u001b[38;5;241m.\u001b[39m_NotOkStatusException \u001b[38;5;28;01mas\u001b[39;00m e:\n\u001b[1;32m     61\u001b[0m   \u001b[38;5;28;01mif\u001b[39;00m name \u001b[38;5;129;01mis\u001b[39;00m \u001b[38;5;129;01mnot\u001b[39;00m \u001b[38;5;28;01mNone\u001b[39;00m:\n",
      "\u001b[0;31mKeyboardInterrupt\u001b[0m: "
     ]
    }
   ],
   "source": [
    "fine_tune_epochs = 80\n",
    "total_epochs =  initial_epochs + fine_tune_epochs\n",
    "\n",
    "history_further = model.fit(dset_train,\n",
    "                         epochs=total_epochs,\n",
    "                         initial_epoch=history.epoch[-1],\n",
    "                         validation_data=dset_test)"
   ]
  },
  {
   "cell_type": "code",
   "execution_count": 19,
   "id": "b0fe6a92",
   "metadata": {},
   "outputs": [
    {
     "name": "stdout",
     "output_type": "stream",
     "text": [
      "Epoch 100/180\n",
      "177/177 [==============================] - 25s 139ms/step - loss: 268.0441 - val_loss: 19984.6465\n",
      "Epoch 101/180\n",
      "177/177 [==============================] - 25s 140ms/step - loss: 265.5523 - val_loss: 19989.2715\n",
      "Epoch 102/180\n",
      "177/177 [==============================] - 25s 141ms/step - loss: 258.0743 - val_loss: 20089.6035\n",
      "Epoch 103/180\n",
      "177/177 [==============================] - 25s 144ms/step - loss: 253.3967 - val_loss: 19990.1250\n",
      "Epoch 104/180\n",
      "177/177 [==============================] - 25s 140ms/step - loss: 244.8819 - val_loss: 19956.8926\n",
      "Epoch 105/180\n",
      "177/177 [==============================] - 25s 141ms/step - loss: 237.1285 - val_loss: 20039.2344\n",
      "Epoch 106/180\n",
      "177/177 [==============================] - 25s 143ms/step - loss: 228.6740 - val_loss: 19982.4180\n",
      "Epoch 107/180\n",
      "177/177 [==============================] - 24s 135ms/step - loss: 218.7421 - val_loss: 20251.9199\n",
      "Epoch 108/180\n",
      "177/177 [==============================] - 25s 140ms/step - loss: 211.8487 - val_loss: 19950.7012\n",
      "Epoch 109/180\n",
      "177/177 [==============================] - 25s 139ms/step - loss: 203.6252 - val_loss: 19881.2871\n",
      "Epoch 110/180\n",
      "177/177 [==============================] - 25s 139ms/step - loss: 195.1769 - val_loss: 19844.1660\n",
      "Epoch 111/180\n",
      "177/177 [==============================] - 24s 138ms/step - loss: 190.6017 - val_loss: 20115.5449\n",
      "Epoch 112/180\n",
      "177/177 [==============================] - 25s 140ms/step - loss: 190.2525 - val_loss: 19874.8223\n",
      "Epoch 113/180\n",
      "177/177 [==============================] - 25s 139ms/step - loss: 183.1186 - val_loss: 19962.4883\n",
      "Epoch 114/180\n",
      "177/177 [==============================] - 25s 142ms/step - loss: 178.4859 - val_loss: 19998.4805\n",
      "Epoch 115/180\n",
      "177/177 [==============================] - 24s 137ms/step - loss: 177.2448 - val_loss: 19878.8125\n",
      "Epoch 116/180\n",
      "177/177 [==============================] - 25s 142ms/step - loss: 166.4822 - val_loss: 19809.7949\n",
      "Epoch 117/180\n",
      "177/177 [==============================] - 25s 141ms/step - loss: 160.4557 - val_loss: 19972.0762\n",
      "Epoch 118/180\n",
      "177/177 [==============================] - 24s 138ms/step - loss: 154.8125 - val_loss: 19736.6992\n",
      "Epoch 119/180\n",
      "177/177 [==============================] - 25s 140ms/step - loss: 152.5097 - val_loss: 19814.7051\n",
      "Epoch 120/180\n",
      "177/177 [==============================] - 25s 139ms/step - loss: 151.9707 - val_loss: 19981.4043\n",
      "Epoch 121/180\n",
      "177/177 [==============================] - 25s 142ms/step - loss: 150.5347 - val_loss: 19839.3887\n",
      "Epoch 122/180\n",
      "177/177 [==============================] - 25s 141ms/step - loss: 148.5048 - val_loss: 19762.4883\n",
      "Epoch 123/180\n",
      "177/177 [==============================] - 25s 140ms/step - loss: 144.9688 - val_loss: 19773.3594\n",
      "Epoch 124/180\n",
      "177/177 [==============================] - 25s 141ms/step - loss: 142.0388 - val_loss: 19742.9375\n",
      "Epoch 125/180\n",
      "177/177 [==============================] - 24s 138ms/step - loss: 137.9204 - val_loss: 19920.9316\n",
      "Epoch 126/180\n",
      "177/177 [==============================] - 25s 143ms/step - loss: 125.9274 - val_loss: 19636.7734\n",
      "Epoch 127/180\n",
      "177/177 [==============================] - 25s 140ms/step - loss: 117.0715 - val_loss: 19693.1270\n",
      "Epoch 128/180\n",
      "177/177 [==============================] - 25s 141ms/step - loss: 112.5054 - val_loss: 19696.3496\n",
      "Epoch 129/180\n",
      "177/177 [==============================] - 25s 140ms/step - loss: 112.2577 - val_loss: 19835.7715\n",
      "Epoch 130/180\n",
      "177/177 [==============================] - 25s 140ms/step - loss: 115.7408 - val_loss: 19740.9707\n",
      "Epoch 131/180\n",
      "177/177 [==============================] - 25s 139ms/step - loss: 116.5724 - val_loss: 19778.5840\n",
      "Epoch 132/180\n",
      "177/177 [==============================] - 25s 141ms/step - loss: 117.9393 - val_loss: 19703.7188\n",
      "Epoch 133/180\n",
      "177/177 [==============================] - 25s 142ms/step - loss: 114.3624 - val_loss: 19520.7285\n",
      "Epoch 134/180\n",
      "177/177 [==============================] - 25s 142ms/step - loss: 113.0580 - val_loss: 19849.3125\n",
      "Epoch 135/180\n",
      "177/177 [==============================] - 24s 137ms/step - loss: 110.8437 - val_loss: 19653.5078\n",
      "Epoch 136/180\n",
      "105/177 [================>.............] - ETA: 10s - loss: 105.3709"
     ]
    },
    {
     "ename": "KeyboardInterrupt",
     "evalue": "",
     "output_type": "error",
     "traceback": [
      "\u001b[0;31m---------------------------------------------------------------------------\u001b[0m",
      "\u001b[0;31mKeyboardInterrupt\u001b[0m                         Traceback (most recent call last)",
      "Input \u001b[0;32mIn [19]\u001b[0m, in \u001b[0;36m<cell line: 3>\u001b[0;34m()\u001b[0m\n\u001b[1;32m      1\u001b[0m total_epochs \u001b[38;5;241m=\u001b[39m  initial_epochs \u001b[38;5;241m+\u001b[39m fine_tune_epochs\u001b[38;5;241m+\u001b[39m\u001b[38;5;241m80\u001b[39m\n\u001b[0;32m----> 3\u001b[0m history_furthest \u001b[38;5;241m=\u001b[39m \u001b[43mmodel\u001b[49m\u001b[38;5;241;43m.\u001b[39;49m\u001b[43mfit\u001b[49m\u001b[43m(\u001b[49m\u001b[43mdset_train\u001b[49m\u001b[43m,\u001b[49m\n\u001b[1;32m      4\u001b[0m \u001b[43m                         \u001b[49m\u001b[43mepochs\u001b[49m\u001b[38;5;241;43m=\u001b[39;49m\u001b[43mtotal_epochs\u001b[49m\u001b[43m,\u001b[49m\n\u001b[1;32m      5\u001b[0m \u001b[43m                         \u001b[49m\u001b[43minitial_epoch\u001b[49m\u001b[38;5;241;43m=\u001b[39;49m\u001b[43mhistory_further\u001b[49m\u001b[38;5;241;43m.\u001b[39;49m\u001b[43mepoch\u001b[49m\u001b[43m[\u001b[49m\u001b[38;5;241;43m-\u001b[39;49m\u001b[38;5;241;43m1\u001b[39;49m\u001b[43m]\u001b[49m\u001b[43m,\u001b[49m\n\u001b[1;32m      6\u001b[0m \u001b[43m                         \u001b[49m\u001b[43mvalidation_data\u001b[49m\u001b[38;5;241;43m=\u001b[39;49m\u001b[43mdset_test\u001b[49m\u001b[43m)\u001b[49m\n",
      "File \u001b[0;32m/data/wurdahl/physics/lib/python3.8/site-packages/keras/utils/traceback_utils.py:64\u001b[0m, in \u001b[0;36mfilter_traceback.<locals>.error_handler\u001b[0;34m(*args, **kwargs)\u001b[0m\n\u001b[1;32m     62\u001b[0m filtered_tb \u001b[38;5;241m=\u001b[39m \u001b[38;5;28;01mNone\u001b[39;00m\n\u001b[1;32m     63\u001b[0m \u001b[38;5;28;01mtry\u001b[39;00m:\n\u001b[0;32m---> 64\u001b[0m   \u001b[38;5;28;01mreturn\u001b[39;00m \u001b[43mfn\u001b[49m\u001b[43m(\u001b[49m\u001b[38;5;241;43m*\u001b[39;49m\u001b[43margs\u001b[49m\u001b[43m,\u001b[49m\u001b[43m \u001b[49m\u001b[38;5;241;43m*\u001b[39;49m\u001b[38;5;241;43m*\u001b[39;49m\u001b[43mkwargs\u001b[49m\u001b[43m)\u001b[49m\n\u001b[1;32m     65\u001b[0m \u001b[38;5;28;01mexcept\u001b[39;00m \u001b[38;5;167;01mException\u001b[39;00m \u001b[38;5;28;01mas\u001b[39;00m e:  \u001b[38;5;66;03m# pylint: disable=broad-except\u001b[39;00m\n\u001b[1;32m     66\u001b[0m   filtered_tb \u001b[38;5;241m=\u001b[39m _process_traceback_frames(e\u001b[38;5;241m.\u001b[39m__traceback__)\n",
      "File \u001b[0;32m/data/wurdahl/physics/lib/python3.8/site-packages/keras/engine/training.py:1216\u001b[0m, in \u001b[0;36mModel.fit\u001b[0;34m(self, x, y, batch_size, epochs, verbose, callbacks, validation_split, validation_data, shuffle, class_weight, sample_weight, initial_epoch, steps_per_epoch, validation_steps, validation_batch_size, validation_freq, max_queue_size, workers, use_multiprocessing)\u001b[0m\n\u001b[1;32m   1209\u001b[0m \u001b[38;5;28;01mwith\u001b[39;00m tf\u001b[38;5;241m.\u001b[39mprofiler\u001b[38;5;241m.\u001b[39mexperimental\u001b[38;5;241m.\u001b[39mTrace(\n\u001b[1;32m   1210\u001b[0m     \u001b[38;5;124m'\u001b[39m\u001b[38;5;124mtrain\u001b[39m\u001b[38;5;124m'\u001b[39m,\n\u001b[1;32m   1211\u001b[0m     epoch_num\u001b[38;5;241m=\u001b[39mepoch,\n\u001b[1;32m   1212\u001b[0m     step_num\u001b[38;5;241m=\u001b[39mstep,\n\u001b[1;32m   1213\u001b[0m     batch_size\u001b[38;5;241m=\u001b[39mbatch_size,\n\u001b[1;32m   1214\u001b[0m     _r\u001b[38;5;241m=\u001b[39m\u001b[38;5;241m1\u001b[39m):\n\u001b[1;32m   1215\u001b[0m   callbacks\u001b[38;5;241m.\u001b[39mon_train_batch_begin(step)\n\u001b[0;32m-> 1216\u001b[0m   tmp_logs \u001b[38;5;241m=\u001b[39m \u001b[38;5;28;43mself\u001b[39;49m\u001b[38;5;241;43m.\u001b[39;49m\u001b[43mtrain_function\u001b[49m\u001b[43m(\u001b[49m\u001b[43miterator\u001b[49m\u001b[43m)\u001b[49m\n\u001b[1;32m   1217\u001b[0m   \u001b[38;5;28;01mif\u001b[39;00m data_handler\u001b[38;5;241m.\u001b[39mshould_sync:\n\u001b[1;32m   1218\u001b[0m     context\u001b[38;5;241m.\u001b[39masync_wait()\n",
      "File \u001b[0;32m/data/wurdahl/physics/lib/python3.8/site-packages/tensorflow/python/util/traceback_utils.py:150\u001b[0m, in \u001b[0;36mfilter_traceback.<locals>.error_handler\u001b[0;34m(*args, **kwargs)\u001b[0m\n\u001b[1;32m    148\u001b[0m filtered_tb \u001b[38;5;241m=\u001b[39m \u001b[38;5;28;01mNone\u001b[39;00m\n\u001b[1;32m    149\u001b[0m \u001b[38;5;28;01mtry\u001b[39;00m:\n\u001b[0;32m--> 150\u001b[0m   \u001b[38;5;28;01mreturn\u001b[39;00m \u001b[43mfn\u001b[49m\u001b[43m(\u001b[49m\u001b[38;5;241;43m*\u001b[39;49m\u001b[43margs\u001b[49m\u001b[43m,\u001b[49m\u001b[43m \u001b[49m\u001b[38;5;241;43m*\u001b[39;49m\u001b[38;5;241;43m*\u001b[39;49m\u001b[43mkwargs\u001b[49m\u001b[43m)\u001b[49m\n\u001b[1;32m    151\u001b[0m \u001b[38;5;28;01mexcept\u001b[39;00m \u001b[38;5;167;01mException\u001b[39;00m \u001b[38;5;28;01mas\u001b[39;00m e:\n\u001b[1;32m    152\u001b[0m   filtered_tb \u001b[38;5;241m=\u001b[39m _process_traceback_frames(e\u001b[38;5;241m.\u001b[39m__traceback__)\n",
      "File \u001b[0;32m/data/wurdahl/physics/lib/python3.8/site-packages/tensorflow/python/eager/def_function.py:910\u001b[0m, in \u001b[0;36mFunction.__call__\u001b[0;34m(self, *args, **kwds)\u001b[0m\n\u001b[1;32m    907\u001b[0m compiler \u001b[38;5;241m=\u001b[39m \u001b[38;5;124m\"\u001b[39m\u001b[38;5;124mxla\u001b[39m\u001b[38;5;124m\"\u001b[39m \u001b[38;5;28;01mif\u001b[39;00m \u001b[38;5;28mself\u001b[39m\u001b[38;5;241m.\u001b[39m_jit_compile \u001b[38;5;28;01melse\u001b[39;00m \u001b[38;5;124m\"\u001b[39m\u001b[38;5;124mnonXla\u001b[39m\u001b[38;5;124m\"\u001b[39m\n\u001b[1;32m    909\u001b[0m \u001b[38;5;28;01mwith\u001b[39;00m OptionalXlaContext(\u001b[38;5;28mself\u001b[39m\u001b[38;5;241m.\u001b[39m_jit_compile):\n\u001b[0;32m--> 910\u001b[0m   result \u001b[38;5;241m=\u001b[39m \u001b[38;5;28;43mself\u001b[39;49m\u001b[38;5;241;43m.\u001b[39;49m\u001b[43m_call\u001b[49m\u001b[43m(\u001b[49m\u001b[38;5;241;43m*\u001b[39;49m\u001b[43margs\u001b[49m\u001b[43m,\u001b[49m\u001b[43m \u001b[49m\u001b[38;5;241;43m*\u001b[39;49m\u001b[38;5;241;43m*\u001b[39;49m\u001b[43mkwds\u001b[49m\u001b[43m)\u001b[49m\n\u001b[1;32m    912\u001b[0m new_tracing_count \u001b[38;5;241m=\u001b[39m \u001b[38;5;28mself\u001b[39m\u001b[38;5;241m.\u001b[39mexperimental_get_tracing_count()\n\u001b[1;32m    913\u001b[0m without_tracing \u001b[38;5;241m=\u001b[39m (tracing_count \u001b[38;5;241m==\u001b[39m new_tracing_count)\n",
      "File \u001b[0;32m/data/wurdahl/physics/lib/python3.8/site-packages/tensorflow/python/eager/def_function.py:942\u001b[0m, in \u001b[0;36mFunction._call\u001b[0;34m(self, *args, **kwds)\u001b[0m\n\u001b[1;32m    939\u001b[0m   \u001b[38;5;28mself\u001b[39m\u001b[38;5;241m.\u001b[39m_lock\u001b[38;5;241m.\u001b[39mrelease()\n\u001b[1;32m    940\u001b[0m   \u001b[38;5;66;03m# In this case we have created variables on the first call, so we run the\u001b[39;00m\n\u001b[1;32m    941\u001b[0m   \u001b[38;5;66;03m# defunned version which is guaranteed to never create variables.\u001b[39;00m\n\u001b[0;32m--> 942\u001b[0m   \u001b[38;5;28;01mreturn\u001b[39;00m \u001b[38;5;28;43mself\u001b[39;49m\u001b[38;5;241;43m.\u001b[39;49m\u001b[43m_stateless_fn\u001b[49m\u001b[43m(\u001b[49m\u001b[38;5;241;43m*\u001b[39;49m\u001b[43margs\u001b[49m\u001b[43m,\u001b[49m\u001b[43m \u001b[49m\u001b[38;5;241;43m*\u001b[39;49m\u001b[38;5;241;43m*\u001b[39;49m\u001b[43mkwds\u001b[49m\u001b[43m)\u001b[49m  \u001b[38;5;66;03m# pylint: disable=not-callable\u001b[39;00m\n\u001b[1;32m    943\u001b[0m \u001b[38;5;28;01melif\u001b[39;00m \u001b[38;5;28mself\u001b[39m\u001b[38;5;241m.\u001b[39m_stateful_fn \u001b[38;5;129;01mis\u001b[39;00m \u001b[38;5;129;01mnot\u001b[39;00m \u001b[38;5;28;01mNone\u001b[39;00m:\n\u001b[1;32m    944\u001b[0m   \u001b[38;5;66;03m# Release the lock early so that multiple threads can perform the call\u001b[39;00m\n\u001b[1;32m    945\u001b[0m   \u001b[38;5;66;03m# in parallel.\u001b[39;00m\n\u001b[1;32m    946\u001b[0m   \u001b[38;5;28mself\u001b[39m\u001b[38;5;241m.\u001b[39m_lock\u001b[38;5;241m.\u001b[39mrelease()\n",
      "File \u001b[0;32m/data/wurdahl/physics/lib/python3.8/site-packages/tensorflow/python/eager/function.py:3130\u001b[0m, in \u001b[0;36mFunction.__call__\u001b[0;34m(self, *args, **kwargs)\u001b[0m\n\u001b[1;32m   3127\u001b[0m \u001b[38;5;28;01mwith\u001b[39;00m \u001b[38;5;28mself\u001b[39m\u001b[38;5;241m.\u001b[39m_lock:\n\u001b[1;32m   3128\u001b[0m   (graph_function,\n\u001b[1;32m   3129\u001b[0m    filtered_flat_args) \u001b[38;5;241m=\u001b[39m \u001b[38;5;28mself\u001b[39m\u001b[38;5;241m.\u001b[39m_maybe_define_function(args, kwargs)\n\u001b[0;32m-> 3130\u001b[0m \u001b[38;5;28;01mreturn\u001b[39;00m \u001b[43mgraph_function\u001b[49m\u001b[38;5;241;43m.\u001b[39;49m\u001b[43m_call_flat\u001b[49m\u001b[43m(\u001b[49m\n\u001b[1;32m   3131\u001b[0m \u001b[43m    \u001b[49m\u001b[43mfiltered_flat_args\u001b[49m\u001b[43m,\u001b[49m\u001b[43m \u001b[49m\u001b[43mcaptured_inputs\u001b[49m\u001b[38;5;241;43m=\u001b[39;49m\u001b[43mgraph_function\u001b[49m\u001b[38;5;241;43m.\u001b[39;49m\u001b[43mcaptured_inputs\u001b[49m\u001b[43m)\u001b[49m\n",
      "File \u001b[0;32m/data/wurdahl/physics/lib/python3.8/site-packages/tensorflow/python/eager/function.py:1959\u001b[0m, in \u001b[0;36mConcreteFunction._call_flat\u001b[0;34m(self, args, captured_inputs, cancellation_manager)\u001b[0m\n\u001b[1;32m   1955\u001b[0m possible_gradient_type \u001b[38;5;241m=\u001b[39m gradients_util\u001b[38;5;241m.\u001b[39mPossibleTapeGradientTypes(args)\n\u001b[1;32m   1956\u001b[0m \u001b[38;5;28;01mif\u001b[39;00m (possible_gradient_type \u001b[38;5;241m==\u001b[39m gradients_util\u001b[38;5;241m.\u001b[39mPOSSIBLE_GRADIENT_TYPES_NONE\n\u001b[1;32m   1957\u001b[0m     \u001b[38;5;129;01mand\u001b[39;00m executing_eagerly):\n\u001b[1;32m   1958\u001b[0m   \u001b[38;5;66;03m# No tape is watching; skip to running the function.\u001b[39;00m\n\u001b[0;32m-> 1959\u001b[0m   \u001b[38;5;28;01mreturn\u001b[39;00m \u001b[38;5;28mself\u001b[39m\u001b[38;5;241m.\u001b[39m_build_call_outputs(\u001b[38;5;28;43mself\u001b[39;49m\u001b[38;5;241;43m.\u001b[39;49m\u001b[43m_inference_function\u001b[49m\u001b[38;5;241;43m.\u001b[39;49m\u001b[43mcall\u001b[49m\u001b[43m(\u001b[49m\n\u001b[1;32m   1960\u001b[0m \u001b[43m      \u001b[49m\u001b[43mctx\u001b[49m\u001b[43m,\u001b[49m\u001b[43m \u001b[49m\u001b[43margs\u001b[49m\u001b[43m,\u001b[49m\u001b[43m \u001b[49m\u001b[43mcancellation_manager\u001b[49m\u001b[38;5;241;43m=\u001b[39;49m\u001b[43mcancellation_manager\u001b[49m\u001b[43m)\u001b[49m)\n\u001b[1;32m   1961\u001b[0m forward_backward \u001b[38;5;241m=\u001b[39m \u001b[38;5;28mself\u001b[39m\u001b[38;5;241m.\u001b[39m_select_forward_and_backward_functions(\n\u001b[1;32m   1962\u001b[0m     args,\n\u001b[1;32m   1963\u001b[0m     possible_gradient_type,\n\u001b[1;32m   1964\u001b[0m     executing_eagerly)\n\u001b[1;32m   1965\u001b[0m forward_function, args_with_tangents \u001b[38;5;241m=\u001b[39m forward_backward\u001b[38;5;241m.\u001b[39mforward()\n",
      "File \u001b[0;32m/data/wurdahl/physics/lib/python3.8/site-packages/tensorflow/python/eager/function.py:598\u001b[0m, in \u001b[0;36m_EagerDefinedFunction.call\u001b[0;34m(self, ctx, args, cancellation_manager)\u001b[0m\n\u001b[1;32m    596\u001b[0m \u001b[38;5;28;01mwith\u001b[39;00m _InterpolateFunctionError(\u001b[38;5;28mself\u001b[39m):\n\u001b[1;32m    597\u001b[0m   \u001b[38;5;28;01mif\u001b[39;00m cancellation_manager \u001b[38;5;129;01mis\u001b[39;00m \u001b[38;5;28;01mNone\u001b[39;00m:\n\u001b[0;32m--> 598\u001b[0m     outputs \u001b[38;5;241m=\u001b[39m \u001b[43mexecute\u001b[49m\u001b[38;5;241;43m.\u001b[39;49m\u001b[43mexecute\u001b[49m\u001b[43m(\u001b[49m\n\u001b[1;32m    599\u001b[0m \u001b[43m        \u001b[49m\u001b[38;5;28;43mstr\u001b[39;49m\u001b[43m(\u001b[49m\u001b[38;5;28;43mself\u001b[39;49m\u001b[38;5;241;43m.\u001b[39;49m\u001b[43msignature\u001b[49m\u001b[38;5;241;43m.\u001b[39;49m\u001b[43mname\u001b[49m\u001b[43m)\u001b[49m\u001b[43m,\u001b[49m\n\u001b[1;32m    600\u001b[0m \u001b[43m        \u001b[49m\u001b[43mnum_outputs\u001b[49m\u001b[38;5;241;43m=\u001b[39;49m\u001b[38;5;28;43mself\u001b[39;49m\u001b[38;5;241;43m.\u001b[39;49m\u001b[43m_num_outputs\u001b[49m\u001b[43m,\u001b[49m\n\u001b[1;32m    601\u001b[0m \u001b[43m        \u001b[49m\u001b[43minputs\u001b[49m\u001b[38;5;241;43m=\u001b[39;49m\u001b[43margs\u001b[49m\u001b[43m,\u001b[49m\n\u001b[1;32m    602\u001b[0m \u001b[43m        \u001b[49m\u001b[43mattrs\u001b[49m\u001b[38;5;241;43m=\u001b[39;49m\u001b[43mattrs\u001b[49m\u001b[43m,\u001b[49m\n\u001b[1;32m    603\u001b[0m \u001b[43m        \u001b[49m\u001b[43mctx\u001b[49m\u001b[38;5;241;43m=\u001b[39;49m\u001b[43mctx\u001b[49m\u001b[43m)\u001b[49m\n\u001b[1;32m    604\u001b[0m   \u001b[38;5;28;01melse\u001b[39;00m:\n\u001b[1;32m    605\u001b[0m     outputs \u001b[38;5;241m=\u001b[39m execute\u001b[38;5;241m.\u001b[39mexecute_with_cancellation(\n\u001b[1;32m    606\u001b[0m         \u001b[38;5;28mstr\u001b[39m(\u001b[38;5;28mself\u001b[39m\u001b[38;5;241m.\u001b[39msignature\u001b[38;5;241m.\u001b[39mname),\n\u001b[1;32m    607\u001b[0m         num_outputs\u001b[38;5;241m=\u001b[39m\u001b[38;5;28mself\u001b[39m\u001b[38;5;241m.\u001b[39m_num_outputs,\n\u001b[0;32m   (...)\u001b[0m\n\u001b[1;32m    610\u001b[0m         ctx\u001b[38;5;241m=\u001b[39mctx,\n\u001b[1;32m    611\u001b[0m         cancellation_manager\u001b[38;5;241m=\u001b[39mcancellation_manager)\n",
      "File \u001b[0;32m/data/wurdahl/physics/lib/python3.8/site-packages/tensorflow/python/eager/execute.py:58\u001b[0m, in \u001b[0;36mquick_execute\u001b[0;34m(op_name, num_outputs, inputs, attrs, ctx, name)\u001b[0m\n\u001b[1;32m     56\u001b[0m \u001b[38;5;28;01mtry\u001b[39;00m:\n\u001b[1;32m     57\u001b[0m   ctx\u001b[38;5;241m.\u001b[39mensure_initialized()\n\u001b[0;32m---> 58\u001b[0m   tensors \u001b[38;5;241m=\u001b[39m \u001b[43mpywrap_tfe\u001b[49m\u001b[38;5;241;43m.\u001b[39;49m\u001b[43mTFE_Py_Execute\u001b[49m\u001b[43m(\u001b[49m\u001b[43mctx\u001b[49m\u001b[38;5;241;43m.\u001b[39;49m\u001b[43m_handle\u001b[49m\u001b[43m,\u001b[49m\u001b[43m \u001b[49m\u001b[43mdevice_name\u001b[49m\u001b[43m,\u001b[49m\u001b[43m \u001b[49m\u001b[43mop_name\u001b[49m\u001b[43m,\u001b[49m\n\u001b[1;32m     59\u001b[0m \u001b[43m                                      \u001b[49m\u001b[43minputs\u001b[49m\u001b[43m,\u001b[49m\u001b[43m \u001b[49m\u001b[43mattrs\u001b[49m\u001b[43m,\u001b[49m\u001b[43m \u001b[49m\u001b[43mnum_outputs\u001b[49m\u001b[43m)\u001b[49m\n\u001b[1;32m     60\u001b[0m \u001b[38;5;28;01mexcept\u001b[39;00m core\u001b[38;5;241m.\u001b[39m_NotOkStatusException \u001b[38;5;28;01mas\u001b[39;00m e:\n\u001b[1;32m     61\u001b[0m   \u001b[38;5;28;01mif\u001b[39;00m name \u001b[38;5;129;01mis\u001b[39;00m \u001b[38;5;129;01mnot\u001b[39;00m \u001b[38;5;28;01mNone\u001b[39;00m:\n",
      "\u001b[0;31mKeyboardInterrupt\u001b[0m: "
     ]
    }
   ],
   "source": [
    "total_epochs =  initial_epochs + fine_tune_epochs+80\n",
    "\n",
    "history_furthest = model.fit(dset_train,\n",
    "                         epochs=total_epochs,\n",
    "                         initial_epoch=history_further.epoch[-1],\n",
    "                         validation_data=dset_test)"
   ]
  },
  {
   "cell_type": "code",
   "execution_count": null,
   "id": "3e8d37b0",
   "metadata": {},
   "outputs": [],
   "source": []
  }
 ],
 "metadata": {
  "kernelspec": {
   "display_name": "Python 3 (ipykernel)",
   "language": "python",
   "name": "python3"
  },
  "language_info": {
   "codemirror_mode": {
    "name": "ipython",
    "version": 3
   },
   "file_extension": ".py",
   "mimetype": "text/x-python",
   "name": "python",
   "nbconvert_exporter": "python",
   "pygments_lexer": "ipython3",
   "version": "3.8.13"
  }
 },
 "nbformat": 4,
 "nbformat_minor": 5
}
